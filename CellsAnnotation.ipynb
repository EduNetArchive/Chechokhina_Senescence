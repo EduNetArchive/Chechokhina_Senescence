{
  "nbformat": 4,
  "nbformat_minor": 0,
  "metadata": {
    "colab": {
      "provenance": []
    },
    "kernelspec": {
      "name": "python3",
      "display_name": "Python 3"
    },
    "language_info": {
      "name": "python"
    }
  },
  "cells": [
    {
      "cell_type": "code",
      "execution_count": null,
      "metadata": {
        "id": "CTxIN_BwS-o8"
      },
      "outputs": [],
      "source": [
        "from PIL import Image\n",
        "import numpy as np\n",
        "\n",
        "annotation_file = {'File': [], 'Mask': [], 'Cell number': [], 'Class': []}\n",
        "for colored_image, masks, file_name in zip(colored_images, all_masks[0], file_names):\n",
        "  mask_name = masks\n",
        "  masks = np.load(masks)\n",
        "  colored_image = np.array(colored_image)\n",
        "  colored_image = colored_image//65535\n",
        "  colored_image = colored_image.astype('float64')\n",
        "  for mask_num in range(1, np.unique(masks).shape[0]):\n",
        "    annotation_file['File'].append(file_name.split('\\\\')[1])\n",
        "    annotation_file['Mask'].append(mask_name.split('\\\\')[1])\n",
        "    annotation_file['Cell number'].append(mask_num)\n",
        "    mask = np.ma.masked_values(masks, mask_num).mask\n",
        "    masked_val = np.mean(image_thresh*mask)/np.mean(mask) # colored part of cell\n",
        "    if masked_val==0:\n",
        "        class_name = 0\n",
        "    else:\n",
        "        class_name = 1\n",
        "    annotation_file['Class'].append(class_name)"
      ]
    }
  ]
}